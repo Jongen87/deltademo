{
 "cells": [
  {
   "cell_type": "markdown",
   "metadata": {},
   "source": [
    "# Prepare Datasets"
   ]
  },
  {
   "cell_type": "code",
   "execution_count": 30,
   "metadata": {},
   "outputs": [],
   "source": [
    "import pandas as pd\n",
    "import numpy as np\n",
    "import datetime as dt"
   ]
  },
  {
   "cell_type": "code",
   "execution_count": 48,
   "metadata": {},
   "outputs": [],
   "source": [
    "wine_orig = pd.read_csv('../rawdata/wine/winemag-data-130k-v2.csv', index_col=0)\n",
    "wine_orig = wine_orig.drop(columns=['description', 'designation']).drop_duplicates(['taster_name', 'title'])\n",
    "wine_orig = wine_orig[~wine_orig.title.str.startswith('Glen Carlou 2009')]"
   ]
  },
  {
   "cell_type": "code",
   "execution_count": 49,
   "metadata": {},
   "outputs": [
    {
     "name": "stdout",
     "output_type": "stream",
     "text": [
      "118969\n"
     ]
    }
   ],
   "source": [
    "print(len(wine_orig))\n",
    "wine_new = wine_orig.tail(1000)\n",
    "wine_new.to_csv(\"../rawdata/wine/wine_new.csv\", index=False)\n",
    "wine = wine_orig.tail(-1000)\n",
    "wine.to_csv('../rawdata/wine/wine.csv', index=False)"
   ]
  },
  {
   "cell_type": "code",
   "execution_count": 50,
   "metadata": {},
   "outputs": [
    {
     "data": {
      "text/plain": [
       "array([], dtype=object)"
      ]
     },
     "execution_count": 50,
     "metadata": {},
     "output_type": "execute_result"
    }
   ],
   "source": [
    "wine_orig[wine_orig.title.str.startswith('Glen Carlou 2009')].title.values"
   ]
  },
  {
   "cell_type": "code",
   "execution_count": 51,
   "metadata": {},
   "outputs": [
    {
     "data": {
      "text/plain": [
       "117969"
      ]
     },
     "execution_count": 51,
     "metadata": {},
     "output_type": "execute_result"
    }
   ],
   "source": [
    "len(wine)"
   ]
  },
  {
   "cell_type": "code",
   "execution_count": 52,
   "metadata": {},
   "outputs": [
    {
     "data": {
      "text/html": [
       "<div>\n",
       "<style scoped>\n",
       "    .dataframe tbody tr th:only-of-type {\n",
       "        vertical-align: middle;\n",
       "    }\n",
       "\n",
       "    .dataframe tbody tr th {\n",
       "        vertical-align: top;\n",
       "    }\n",
       "\n",
       "    .dataframe thead th {\n",
       "        text-align: right;\n",
       "    }\n",
       "</style>\n",
       "<table border=\"1\" class=\"dataframe\">\n",
       "  <thead>\n",
       "    <tr style=\"text-align: right;\">\n",
       "      <th></th>\n",
       "      <th>country</th>\n",
       "      <th>points</th>\n",
       "      <th>price</th>\n",
       "      <th>province</th>\n",
       "      <th>region_1</th>\n",
       "      <th>region_2</th>\n",
       "      <th>taster_name</th>\n",
       "      <th>taster_twitter_handle</th>\n",
       "      <th>title</th>\n",
       "      <th>variety</th>\n",
       "      <th>winery</th>\n",
       "    </tr>\n",
       "  </thead>\n",
       "  <tbody>\n",
       "    <tr>\n",
       "      <th>50458</th>\n",
       "      <td>Italy</td>\n",
       "      <td>86</td>\n",
       "      <td>13.0</td>\n",
       "      <td>Northeastern Italy</td>\n",
       "      <td>Collio</td>\n",
       "      <td>NaN</td>\n",
       "      <td>Kerin O’Keefe</td>\n",
       "      <td>@kerinokeefe</td>\n",
       "      <td>Cormòns 2014 Sauvignon (Collio)</td>\n",
       "      <td>Sauvignon</td>\n",
       "      <td>Cormòns</td>\n",
       "    </tr>\n",
       "    <tr>\n",
       "      <th>90348</th>\n",
       "      <td>France</td>\n",
       "      <td>92</td>\n",
       "      <td>95.0</td>\n",
       "      <td>Burgundy</td>\n",
       "      <td>Volnay</td>\n",
       "      <td>NaN</td>\n",
       "      <td>Roger Voss</td>\n",
       "      <td>@vossroger</td>\n",
       "      <td>Pierre Morey 2005 Santenots Premier Cru  (Volnay)</td>\n",
       "      <td>Pinot Noir</td>\n",
       "      <td>Pierre Morey</td>\n",
       "    </tr>\n",
       "    <tr>\n",
       "      <th>16991</th>\n",
       "      <td>Spain</td>\n",
       "      <td>84</td>\n",
       "      <td>17.0</td>\n",
       "      <td>Northern Spain</td>\n",
       "      <td>Rueda</td>\n",
       "      <td>NaN</td>\n",
       "      <td>Michael Schachner</td>\n",
       "      <td>@wineschach</td>\n",
       "      <td>Pedro Escudero 2012 Fuente Elvira Verdejo (Rueda)</td>\n",
       "      <td>Verdejo</td>\n",
       "      <td>Pedro Escudero</td>\n",
       "    </tr>\n",
       "    <tr>\n",
       "      <th>15412</th>\n",
       "      <td>Italy</td>\n",
       "      <td>85</td>\n",
       "      <td>25.0</td>\n",
       "      <td>Tuscany</td>\n",
       "      <td>Toscana</td>\n",
       "      <td>NaN</td>\n",
       "      <td>Kerin O’Keefe</td>\n",
       "      <td>@kerinokeefe</td>\n",
       "      <td>Poggio al Chiuso 2014 Voltaccia 49 Merlot (Tos...</td>\n",
       "      <td>Merlot</td>\n",
       "      <td>Poggio al Chiuso</td>\n",
       "    </tr>\n",
       "    <tr>\n",
       "      <th>52515</th>\n",
       "      <td>Spain</td>\n",
       "      <td>88</td>\n",
       "      <td>40.0</td>\n",
       "      <td>Catalonia</td>\n",
       "      <td>Priorat</td>\n",
       "      <td>NaN</td>\n",
       "      <td>Michael Schachner</td>\n",
       "      <td>@wineschach</td>\n",
       "      <td>Clos Figueras 2011 Font de la Figuera Red (Pri...</td>\n",
       "      <td>Red Blend</td>\n",
       "      <td>Clos Figueras</td>\n",
       "    </tr>\n",
       "  </tbody>\n",
       "</table>\n",
       "</div>"
      ],
      "text/plain": [
       "      country  points  price            province region_1 region_2  \\\n",
       "50458   Italy      86   13.0  Northeastern Italy   Collio      NaN   \n",
       "90348  France      92   95.0            Burgundy   Volnay      NaN   \n",
       "16991   Spain      84   17.0      Northern Spain    Rueda      NaN   \n",
       "15412   Italy      85   25.0             Tuscany  Toscana      NaN   \n",
       "52515   Spain      88   40.0           Catalonia  Priorat      NaN   \n",
       "\n",
       "             taster_name taster_twitter_handle  \\\n",
       "50458      Kerin O’Keefe          @kerinokeefe   \n",
       "90348         Roger Voss            @vossroger   \n",
       "16991  Michael Schachner           @wineschach   \n",
       "15412      Kerin O’Keefe          @kerinokeefe   \n",
       "52515  Michael Schachner           @wineschach   \n",
       "\n",
       "                                                   title     variety  \\\n",
       "50458                    Cormòns 2014 Sauvignon (Collio)   Sauvignon   \n",
       "90348  Pierre Morey 2005 Santenots Premier Cru  (Volnay)  Pinot Noir   \n",
       "16991  Pedro Escudero 2012 Fuente Elvira Verdejo (Rueda)     Verdejo   \n",
       "15412  Poggio al Chiuso 2014 Voltaccia 49 Merlot (Tos...      Merlot   \n",
       "52515  Clos Figueras 2011 Font de la Figuera Red (Pri...   Red Blend   \n",
       "\n",
       "                 winery  \n",
       "50458           Cormòns  \n",
       "90348      Pierre Morey  \n",
       "16991    Pedro Escudero  \n",
       "15412  Poggio al Chiuso  \n",
       "52515     Clos Figueras  "
      ]
     },
     "execution_count": 52,
     "metadata": {},
     "output_type": "execute_result"
    }
   ],
   "source": [
    "wine_update = wine_orig.sample(500)\n",
    "wine_update = wine_update[wine_update['taster_name'].notnull()].head(100)\n",
    "wine_update.head()"
   ]
  },
  {
   "cell_type": "code",
   "execution_count": 53,
   "metadata": {},
   "outputs": [
    {
     "data": {
      "text/plain": [
       "100"
      ]
     },
     "execution_count": 53,
     "metadata": {},
     "output_type": "execute_result"
    }
   ],
   "source": [
    "len(wine_update)"
   ]
  },
  {
   "cell_type": "code",
   "execution_count": 54,
   "metadata": {},
   "outputs": [],
   "source": [
    "wine_update['points'] = (wine_update.points * np.random.rand(len(wine_update))).astype(int)\n",
    "wine_update.to_csv('../rawdata/wine/wineupdate.csv', index=False)"
   ]
  },
  {
   "cell_type": "code",
   "execution_count": 44,
   "metadata": {},
   "outputs": [
    {
     "data": {
      "text/plain": [
       "100"
      ]
     },
     "execution_count": 44,
     "metadata": {},
     "output_type": "execute_result"
    }
   ],
   "source": [
    "len(wine_update)"
   ]
  },
  {
   "cell_type": "code",
   "execution_count": 45,
   "metadata": {},
   "outputs": [
    {
     "data": {
      "text/plain": [
       "119898"
      ]
     },
     "execution_count": 45,
     "metadata": {},
     "output_type": "execute_result"
    }
   ],
   "source": [
    "len(wine_orig)"
   ]
  },
  {
   "cell_type": "code",
   "execution_count": 46,
   "metadata": {},
   "outputs": [
    {
     "data": {
      "text/plain": [
       "119898"
      ]
     },
     "execution_count": 46,
     "metadata": {},
     "output_type": "execute_result"
    }
   ],
   "source": [
    "len(wine_orig.merge(wine_update, how='left', on=['taster_name', 'title']))"
   ]
  },
  {
   "cell_type": "code",
   "execution_count": 47,
   "metadata": {},
   "outputs": [
    {
     "data": {
      "text/plain": [
       "country                                                           Portugal\n",
       "points                                                                  88\n",
       "price                                                                 13.0\n",
       "province                                                    Beira Interior\n",
       "region_1                                                               NaN\n",
       "region_2                                                               NaN\n",
       "taster_name                                                     Roger Voss\n",
       "taster_twitter_handle                                           @vossroger\n",
       "title                    Companhia das Quintas 2012 Quinta do Cardo Red...\n",
       "variety                                                     Portuguese Red\n",
       "winery                                               Companhia das Quintas\n",
       "Name: 44613, dtype: object"
      ]
     },
     "execution_count": 47,
     "metadata": {},
     "output_type": "execute_result"
    }
   ],
   "source": [
    "wine_orig.loc[44613]"
   ]
  },
  {
   "cell_type": "code",
   "execution_count": null,
   "metadata": {},
   "outputs": [],
   "source": []
  }
 ],
 "metadata": {
  "kernelspec": {
   "display_name": "Python 3 (ipykernel)",
   "language": "python",
   "name": "python3"
  },
  "language_info": {
   "codemirror_mode": {
    "name": "ipython",
    "version": 3
   },
   "file_extension": ".py",
   "mimetype": "text/x-python",
   "name": "python",
   "nbconvert_exporter": "python",
   "pygments_lexer": "ipython3",
   "version": "3.8.12"
  }
 },
 "nbformat": 4,
 "nbformat_minor": 2
}
